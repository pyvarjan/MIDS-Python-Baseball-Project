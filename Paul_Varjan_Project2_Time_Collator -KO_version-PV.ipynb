{
 "cells": [
  {
   "cell_type": "code",
   "execution_count": 1,
   "metadata": {
    "collapsed": false,
    "scrolled": true
   },
   "outputs": [
    {
     "name": "stdout",
     "output_type": "stream",
     "text": [
      "3.5.1 |Anaconda 2.4.1 (x86_64)| (default, Dec  7 2015, 11:24:55) \n",
      "[GCC 4.2.1 (Apple Inc. build 5577)]\n",
      "1.11.0\n",
      "0.18.0\n"
     ]
    }
   ],
   "source": [
    "%matplotlib inline\n",
    "import sys\n",
    "print(sys.version)\n",
    "import numpy as np\n",
    "print(np.__version__)\n",
    "import pandas as pd\n",
    "print(pd.__version__)\n",
    "import matplotlib.pyplot as plt\n",
    "#pandas.io replaced in 0.17.0 with pandas_datareader. Ensures data, wb brought in for each version.\n",
    "try:\n",
    "    from pandas_datareader import data, wb\n",
    "except:\n",
    "    from pandas.io import data, wb\n",
    "\n",
    "#### ADDED import datetime\n",
    "import datetime\n",
    "from datetime import timedelta\n",
    "\n",
    "pd.set_option('display.max_rows', 50)\n",
    "pd.set_option('display.max_columns', 500)\n",
    "pd.set_option('display.width', 1000)"
   ]
  },
  {
   "cell_type": "code",
   "execution_count": 2,
   "metadata": {
    "collapsed": false
   },
   "outputs": [
    {
     "data": {
      "text/html": [
       "<div>\n",
       "<table border=\"1\" class=\"dataframe\">\n",
       "  <thead>\n",
       "    <tr style=\"text-align: right;\">\n",
       "      <th></th>\n",
       "      <th>stationID</th>\n",
       "      <th>gmt</th>\n",
       "      <th>tempF</th>\n",
       "      <th>relhum</th>\n",
       "      <th>altibarom</th>\n",
       "      <th>team</th>\n",
       "      <th>isclosable</th>\n",
       "      <th>altitude</th>\n",
       "      <th>localbarom</th>\n",
       "      <th>gmt_hour</th>\n",
       "      <th>station_hour</th>\n",
       "    </tr>\n",
       "  </thead>\n",
       "  <tbody>\n",
       "    <tr>\n",
       "      <th>0</th>\n",
       "      <td>KLGA</td>\n",
       "      <td>2015-10-11 04:51:00</td>\n",
       "      <td>57</td>\n",
       "      <td>62</td>\n",
       "      <td>30.07</td>\n",
       "      <td>mets</td>\n",
       "      <td>False</td>\n",
       "      <td>54</td>\n",
       "      <td>30.016</td>\n",
       "      <td>2015-10-11 04:00:00</td>\n",
       "      <td>KLGA 2015-10-11 04:00:00</td>\n",
       "    </tr>\n",
       "    <tr>\n",
       "      <th>1</th>\n",
       "      <td>KLGA</td>\n",
       "      <td>2015-10-11 03:51:00</td>\n",
       "      <td>57</td>\n",
       "      <td>57</td>\n",
       "      <td>30.08</td>\n",
       "      <td>mets</td>\n",
       "      <td>False</td>\n",
       "      <td>54</td>\n",
       "      <td>30.026</td>\n",
       "      <td>2015-10-11 03:00:00</td>\n",
       "      <td>KLGA 2015-10-11 03:00:00</td>\n",
       "    </tr>\n",
       "    <tr>\n",
       "      <th>2</th>\n",
       "      <td>KLGA</td>\n",
       "      <td>2015-10-11 02:51:00</td>\n",
       "      <td>57</td>\n",
       "      <td>55</td>\n",
       "      <td>30.08</td>\n",
       "      <td>mets</td>\n",
       "      <td>False</td>\n",
       "      <td>54</td>\n",
       "      <td>30.026</td>\n",
       "      <td>2015-10-11 02:00:00</td>\n",
       "      <td>KLGA 2015-10-11 02:00:00</td>\n",
       "    </tr>\n",
       "    <tr>\n",
       "      <th>3</th>\n",
       "      <td>KLGA</td>\n",
       "      <td>2015-10-11 01:51:00</td>\n",
       "      <td>59</td>\n",
       "      <td>48</td>\n",
       "      <td>30.07</td>\n",
       "      <td>mets</td>\n",
       "      <td>False</td>\n",
       "      <td>54</td>\n",
       "      <td>30.016</td>\n",
       "      <td>2015-10-11 01:00:00</td>\n",
       "      <td>KLGA 2015-10-11 01:00:00</td>\n",
       "    </tr>\n",
       "    <tr>\n",
       "      <th>4</th>\n",
       "      <td>KLGA</td>\n",
       "      <td>2015-10-11 00:51:00</td>\n",
       "      <td>60</td>\n",
       "      <td>46</td>\n",
       "      <td>30.09</td>\n",
       "      <td>mets</td>\n",
       "      <td>False</td>\n",
       "      <td>54</td>\n",
       "      <td>30.036</td>\n",
       "      <td>2015-10-11 00:00:00</td>\n",
       "      <td>KLGA 2015-10-11 00:00:00</td>\n",
       "    </tr>\n",
       "  </tbody>\n",
       "</table>\n",
       "</div>"
      ],
      "text/plain": [
       "  stationID                 gmt  tempF  relhum  altibarom  team isclosable  altitude  localbarom            gmt_hour              station_hour\n",
       "0      KLGA 2015-10-11 04:51:00     57      62      30.07  mets      False        54      30.016 2015-10-11 04:00:00  KLGA 2015-10-11 04:00:00\n",
       "1      KLGA 2015-10-11 03:51:00     57      57      30.08  mets      False        54      30.026 2015-10-11 03:00:00  KLGA 2015-10-11 03:00:00\n",
       "2      KLGA 2015-10-11 02:51:00     57      55      30.08  mets      False        54      30.026 2015-10-11 02:00:00  KLGA 2015-10-11 02:00:00\n",
       "3      KLGA 2015-10-11 01:51:00     59      48      30.07  mets      False        54      30.016 2015-10-11 01:00:00  KLGA 2015-10-11 01:00:00\n",
       "4      KLGA 2015-10-11 00:51:00     60      46      30.09  mets      False        54      30.036 2015-10-11 00:00:00  KLGA 2015-10-11 00:00:00"
      ]
     },
     "execution_count": 2,
     "metadata": {},
     "output_type": "execute_result"
    }
   ],
   "source": [
    "hw = pd.read_csv('HomeWeatherData.csv')\n",
    "del hw['Unnamed: 0']\n",
    "hw.gmt = pd.to_datetime(hw.gmt)\n",
    "hw['gmt_hour'] = hw['gmt'].apply(lambda dt: datetime.datetime(dt.year, dt.month, dt.day, dt.hour))\n",
    "hw['station_hour'] = hw['stationID']+\" \"+hw['gmt_hour'].apply(lambda x: str(x))\n",
    "\n",
    "hw.head()"
   ]
  },
  {
   "cell_type": "code",
   "execution_count": 18,
   "metadata": {
    "collapsed": false
   },
   "outputs": [
    {
     "data": {
      "text/plain": [
       "(70206, 41)"
      ]
     },
     "execution_count": 18,
     "metadata": {},
     "output_type": "execute_result"
    }
   ],
   "source": [
    "pitches = pd.read_csv('all-stadiums_short.csv')\n",
    "del pitches['Unnamed: 0']\n",
    "\n",
    "pitches['tfs_zulu'] = pd.to_datetime(pitches['tfs_zulu'])\n",
    "pitches.shape"
   ]
  },
  {
   "cell_type": "code",
   "execution_count": 21,
   "metadata": {
    "collapsed": false
   },
   "outputs": [],
   "source": [
    "#ADDED FOLLOWING LINE\n",
    "pitches['tfs_zulu_hour'] = pitches['tfs_zulu'].apply(lambda dt: datetime.datetime(dt.year, dt.month, dt.day, dt.hour))\n",
    "pitches['masterpitchID'] = pitches['stadium'] + ' ' + pitches['tfs_zulu'].apply(lambda x: str(x)) + ' '\n",
    "pitches.head(3)\n",
    "\n",
    "stationmap_stadiums = {'yankees':'KNYC', 'red_sox':'KBOS', 'orioles':'KBWI', 'rays':'KSPG',\n",
    "           'mets':'KLGA', 'braves':'KATL', 'phillies':'KPHL', 'nationals':'KDCA', 'marlins':'KMIA',\n",
    "           'white_sox':'KMDW', 'indians':'KBKL', 'tigers':'KDET', 'royals':'KMKC', 'twins':'KMSP',\n",
    "           'cubs':'KORD', 'reds':'KLUK', 'brewers':'KMKE', 'pirates':'KPIT', 'cardinals':'KCPS',\n",
    "           'astros':'KEFD', 'angels':'KSLI', 'athletics':'KOAK', 'mariners':'KBFI', 'rangers':'KDAL',\n",
    "           'd_backs':'KPHX', 'rockies':'KDEN', 'dodgers':'KCQT', 'padres':'KSAN', 'giants':'KSFO' \n",
    "           }\n",
    "\n",
    "stationmap_keys = stationmap_stadiums.keys()\n",
    "\n",
    "def map_stadiums(stadium) :\n",
    "    if stadium in stationmap_keys :\n",
    "        return stationmap_stadiums[stadium]\n",
    "    else :\n",
    "        return \"No Weather Station\"\n",
    "\n",
    "pitches['station'] = pitches['stadium'].apply(lambda x: map_stadiums(x))\n",
    "pitches['station_hour'] = pitches['station']+\" \"+pitches['tfs_zulu_hour'].apply(lambda x: str(x))\n",
    "\n",
    "#merge dataframe from altitude data into core dataframe.\n",
    "pitches = pitches.merge(hw[['tempF','relhum','altibarom','isclosable','localbarom','station_hour']], \\\n",
    "                        on=['station_hour'], how='inner')\n",
    "\n"
   ]
  },
  {
   "cell_type": "code",
   "execution_count": 22,
   "metadata": {
    "collapsed": false
   },
   "outputs": [
    {
     "data": {
      "text/plain": [
       "(103380, 55)"
      ]
     },
     "execution_count": 22,
     "metadata": {},
     "output_type": "execute_result"
    }
   ],
   "source": [
    "pitches.shape"
   ]
  },
  {
   "cell_type": "markdown",
   "metadata": {},
   "source": [
    "\n"
   ]
  }
 ],
 "metadata": {
  "kernelspec": {
   "display_name": "Python 3",
   "language": "python",
   "name": "python3"
  },
  "language_info": {
   "codemirror_mode": {
    "name": "ipython",
    "version": 3
   },
   "file_extension": ".py",
   "mimetype": "text/x-python",
   "name": "python",
   "nbconvert_exporter": "python",
   "pygments_lexer": "ipython3",
   "version": "3.5.1"
  }
 },
 "nbformat": 4,
 "nbformat_minor": 0
}
